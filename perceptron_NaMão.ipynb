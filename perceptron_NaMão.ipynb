{
  "nbformat": 4,
  "nbformat_minor": 0,
  "metadata": {
    "colab": {
      "name": "perceptron-NaMão.ipynb",
      "provenance": [],
      "include_colab_link": true
    },
    "kernelspec": {
      "name": "python3",
      "display_name": "Python 3"
    }
  },
  "cells": [
    {
      "cell_type": "markdown",
      "metadata": {
        "id": "view-in-github",
        "colab_type": "text"
      },
      "source": [
        "<a href=\"https://colab.research.google.com/github/tmoura/machinelearning/blob/master/perceptron_NaM%C3%A3o.ipynb\" target=\"_parent\"><img src=\"https://colab.research.google.com/assets/colab-badge.svg\" alt=\"Open In Colab\"/></a>"
      ]
    },
    {
      "cell_type": "code",
      "metadata": {
        "id": "AduYJt5SlAtT",
        "colab_type": "code",
        "colab": {}
      },
      "source": [
        "#############\n",
        "#\n",
        "# Implementação do Perceptron para reconhecimento dos padrões H e T\n",
        "#\n",
        "#############\n",
        "\n",
        "H = [1,0,1,1,1,1,1,0,1]\n",
        "T = [1,1,1,0,1,0,0,1,0]\n",
        "\n",
        "n = 0.05"
      ],
      "execution_count": 0,
      "outputs": []
    }
  ]
}