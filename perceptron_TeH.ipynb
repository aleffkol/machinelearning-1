{
  "nbformat": 4,
  "nbformat_minor": 0,
  "metadata": {
    "colab": {
      "name": "perceptron-TeH.ipynb",
      "provenance": [],
      "include_colab_link": true
    },
    "kernelspec": {
      "name": "python3",
      "display_name": "Python 3"
    }
  },
  "cells": [
    {
      "cell_type": "markdown",
      "metadata": {
        "id": "view-in-github",
        "colab_type": "text"
      },
      "source": [
        "<a href=\"https://colab.research.google.com/github/tmoura/machinelearning/blob/master/perceptron_TeH.ipynb\" target=\"_parent\"><img src=\"https://colab.research.google.com/assets/colab-badge.svg\" alt=\"Open In Colab\"/></a>"
      ]
    },
    {
      "cell_type": "code",
      "metadata": {
        "id": "fyXdjfS7ZUoX",
        "colab_type": "code",
        "colab": {}
      },
      "source": [
        "###########\n",
        "#\n",
        "# Perceptron T e H\n",
        "#\n",
        "###########\n",
        "TrData = [1 0 1 1 1 1 1 0 1; 1 1 1 0 1 0 0 1 0];\n",
        "TrLabel = [0 1];\n",
        "\n",
        "TeData = [0 0 1 1 1 1 1 0 1;1 1 0 0 1 0 0 1 0];\n",
        "\n",
        "teta = 0;\n",
        "w = [0 0 0 0 0 0 0 0 0];\n",
        "n = 0.05;"
      ],
      "execution_count": 0,
      "outputs": []
    }
  ]
}