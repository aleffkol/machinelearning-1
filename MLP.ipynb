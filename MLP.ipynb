{
  "nbformat": 4,
  "nbformat_minor": 0,
  "metadata": {
    "colab": {
      "name": "MLP.ipynb",
      "provenance": [],
      "collapsed_sections": [],
      "include_colab_link": true
    },
    "kernelspec": {
      "name": "python3",
      "display_name": "Python 3"
    }
  },
  "cells": [
    {
      "cell_type": "markdown",
      "metadata": {
        "id": "view-in-github",
        "colab_type": "text"
      },
      "source": [
        "<a href=\"https://colab.research.google.com/github/tmoura/machinelearning/blob/master/MLP.ipynb\" target=\"_parent\"><img src=\"https://colab.research.google.com/assets/colab-badge.svg\" alt=\"Open In Colab\"/></a>"
      ]
    },
    {
      "cell_type": "code",
      "metadata": {
        "id": "QPWYx2U4cVZM",
        "colab_type": "code",
        "colab": {}
      },
      "source": [
        "from sklearn.model_selection import train_test_split\n",
        "from sklearn import metrics\n",
        "import pandas as pd\n",
        "from sklearn.neural_network import MLPClassifier\n",
        "\n",
        "url = \"https://raw.githubusercontent.com/tmoura/machinelearning/master/iris.data\"\n",
        "\n",
        "# IRIS\n",
        "col_names = ['label', 'x1', 'x2', 'x3', 'x4']\n",
        "feature_cols = ['x1', 'x2', 'x3', 'x4']\n",
        "\n",
        "# Carregar base de dados\n",
        "dataset = pd.read_csv(url, header=None, names=col_names)\n",
        "\n",
        "X = dataset[feature_cols] # Atributos (Features)\n",
        "y = dataset.label # Saída"
      ],
      "execution_count": 0,
      "outputs": []
    },
    {
      "cell_type": "code",
      "metadata": {
        "id": "8SDYzZfwce8e",
        "colab_type": "code",
        "colab": {}
      },
      "source": [
        "X_train, X_test, y_train, y_test = train_test_split(X, y, test_size=0.2, random_state=None, stratify=y) # 80% treino e 20% teste\n",
        "\n",
        "model = MLPClassifier(hidden_layer_sizes=(4, 2), activation='tanh',max_iter=2000)\n",
        "model = model.fit(X_train, y_train)"
      ],
      "execution_count": 0,
      "outputs": []
    },
    {
      "cell_type": "code",
      "metadata": {
        "id": "ZQz-tGWVc82G",
        "colab_type": "code",
        "colab": {
          "base_uri": "https://localhost:8080/",
          "height": 68
        },
        "outputId": "5fa0e5c5-7701-4ec2-bf98-ebeae38d815c"
      },
      "source": [
        "result = model.predict(X_test)\n",
        "acc = metrics.accuracy_score(result, y_test)\n",
        "show = round(acc * 100)\n",
        "print(\"{}%\".format(show))\n",
        "\n",
        "print(list(result))\n",
        "print(list(y_test))"
      ],
      "execution_count": 53,
      "outputs": [
        {
          "output_type": "stream",
          "text": [
            "100.0%\n",
            "[1, 1, 3, 1, 2, 1, 1, 1, 1, 2, 3, 1, 3, 2, 2, 1, 3, 2, 2, 2, 3, 3, 3, 3, 1, 2, 3, 2, 2, 3]\n",
            "[1, 1, 3, 1, 2, 1, 1, 1, 1, 2, 3, 1, 3, 2, 2, 1, 3, 2, 2, 2, 3, 3, 3, 3, 1, 2, 3, 2, 2, 3]\n"
          ],
          "name": "stdout"
        }
      ]
    }
  ]
}