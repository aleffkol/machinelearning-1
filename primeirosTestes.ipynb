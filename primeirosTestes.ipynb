{
  "nbformat": 4,
  "nbformat_minor": 0,
  "metadata": {
    "colab": {
      "name": "Untitled2.ipynb",
      "provenance": [],
      "include_colab_link": true
    },
    "kernelspec": {
      "name": "python3",
      "display_name": "Python 3"
    }
  },
  "cells": [
    {
      "cell_type": "markdown",
      "metadata": {
        "id": "view-in-github",
        "colab_type": "text"
      },
      "source": [
        "<a href=\"https://colab.research.google.com/github/tmoura/machinelearning/blob/master/primeirosTestes.ipynb\" target=\"_parent\"><img src=\"https://colab.research.google.com/assets/colab-badge.svg\" alt=\"Open In Colab\"/></a>"
      ]
    },
    {
      "cell_type": "code",
      "metadata": {
        "id": "apUqb9Vf2Yu0",
        "colab_type": "code",
        "colab": {}
      },
      "source": [
        "from sklearn import tree\n",
        "from sklearn.model_selection import train_test_split\n",
        "from sklearn import metrics\n",
        "import pandas as pd\n",
        "\n",
        "url = \"https://raw.githubusercontent.com/tmoura/machinelearning/master/iris.data\"\n",
        "\n",
        "col_names = ['label', 'x1', 'x2', 'x3', 'x4']\n",
        "\n",
        "# Carregar base de dados\n",
        "dataset = pd.read_csv(url, header=None, names=col_names)\n",
        "\n",
        "feature_cols = ['x1', 'x2', 'x3', 'x4']\n",
        "X = dataset[feature_cols] # Atributos (Features)\n",
        "y = dataset.label # Saída\n",
        "\n",
        "X_train, X_test, y_train, y_test = train_test_split(X, y, test_size=0.2, random_state=1) # 80% treino e 20% teste\n",
        "\n",
        "model = tree.DecisionTreeClassifier()\n",
        "\n",
        "# Treinar Arvore de Decisao\n",
        "model = model.fit(X_train,y_train)\n",
        "\n",
        "#Prever dados de Teste\n",
        "y_pred = model.predict(X_test)\n",
        "\n",
        "result = round(metrics.accuracy_score(y_test, y_pred) * 100)\n",
        "\n",
        "print('Acerto {}%'.format(result))\n",
        "\n",
        "print(list(y_test))\n",
        "print(list(y_pred))"
      ],
      "execution_count": 0,
      "outputs": []
    },
    {
      "cell_type": "code",
      "metadata": {
        "id": "LE7-K-5iD1ro",
        "colab_type": "code",
        "colab": {}
      },
      "source": [
        "print(dataset)"
      ],
      "execution_count": 0,
      "outputs": []
    },
    {
      "cell_type": "code",
      "metadata": {
        "id": "uWB3cp7eD5HF",
        "colab_type": "code",
        "colab": {}
      },
      "source": [
        "tree.plot_tree(model) "
      ],
      "execution_count": 0,
      "outputs": []
    }
  ]
}