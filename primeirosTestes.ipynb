{
  "nbformat": 4,
  "nbformat_minor": 0,
  "metadata": {
    "colab": {
      "name": "Untitled2.ipynb",
      "provenance": [],
      "include_colab_link": true
    },
    "kernelspec": {
      "name": "python3",
      "display_name": "Python 3"
    }
  },
  "cells": [
    {
      "cell_type": "markdown",
      "metadata": {
        "id": "view-in-github",
        "colab_type": "text"
      },
      "source": [
        "<a href=\"https://colab.research.google.com/github/tmoura/machinelearning/blob/master/primeirosTestes.ipynb\" target=\"_parent\"><img src=\"https://colab.research.google.com/assets/colab-badge.svg\" alt=\"Open In Colab\"/></a>"
      ]
    },
    {
      "cell_type": "code",
      "metadata": {
        "id": "apUqb9Vf2Yu0",
        "colab_type": "code",
        "colab": {}
      },
      "source": [
        "from sklearn import tree\n",
        "from sklearn.model_selection import train_test_split\n",
        "from sklearn import metrics\n",
        "import pandas as pd\n",
        "\n",
        "url = \"https://raw.githubusercontent.com/tmoura/machinelearning/master/iris.data\"\n",
        "\n",
        "col_names = ['label', 'x1', 'x2', 'x3', 'x4']\n",
        "\n",
        "# Carregar base de dados\n",
        "dataset = pd.read_csv(url, header=None, names=col_names)\n",
        "\n",
        "feature_cols = ['x1', 'x2', 'x3', 'x4']\n",
        "X = dataset[feature_cols] # Atributos (Features)\n",
        "y = dataset.label # Saída\n"
      ],
      "execution_count": 0,
      "outputs": []
    },
    {
      "cell_type": "code",
      "metadata": {
        "id": "TNlrhiu6IXIP",
        "colab_type": "code",
        "colab": {}
      },
      "source": [
        "X_train, X_test, y_train, y_test = train_test_split(X, y, test_size=0.2, random_state=1) # 80% treino e 20% teste\n",
        "\n",
        "#X_train = pd.concat([X[0:40],X[50:90],X[100:140]])\n",
        "#y_train = pd.concat([y[0:40],y[50:90],y[100:140]])\n",
        "\n",
        "#X_test = pd.concat([X[40:50],X[90:100],X[140:150]])\n",
        "#y_test = pd.concat([y[40:50],y[90:100],y[140:150]])\n"
      ],
      "execution_count": 0,
      "outputs": []
    },
    {
      "cell_type": "code",
      "metadata": {
        "id": "D3wNZnbdhp36",
        "colab_type": "code",
        "colab": {}
      },
      "source": [
        "# Treinamendo da Árvore de Decisão\n",
        "model = tree.DecisionTreeClassifier()\n",
        "model = model.fit(X_train, y_train)"
      ],
      "execution_count": 0,
      "outputs": []
    },
    {
      "cell_type": "code",
      "metadata": {
        "id": "gy5I12RpiBzE",
        "colab_type": "code",
        "colab": {
          "base_uri": "https://localhost:8080/",
          "height": 68
        },
        "outputId": "7ec7ccc9-84bb-4d35-b0e1-e25873c150d7"
      },
      "source": [
        "# Predição e Resultados\n",
        "\n",
        "result = model.predict(X_test)\n",
        "acc = metrics.accuracy_score(result, y_test)\n",
        "show = round(acc * 100)\n",
        "print(\"{}%\".format(show))\n",
        "\n",
        "print(list(result))\n",
        "print(list(y_test))"
      ],
      "execution_count": 59,
      "outputs": [
        {
          "output_type": "stream",
          "text": [
            "97.0%\n",
            "[1, 2, 2, 1, 3, 2, 3, 1, 1, 3, 2, 1, 3, 2, 2, 1, 2, 2, 1, 1, 2, 2, 3, 1, 3, 2, 1, 1, 2, 3]\n",
            "[1, 2, 2, 1, 3, 2, 3, 1, 1, 3, 2, 1, 3, 2, 2, 1, 2, 2, 1, 1, 2, 2, 2, 1, 3, 2, 1, 1, 2, 3]\n"
          ],
          "name": "stdout"
        }
      ]
    },
    {
      "cell_type": "code",
      "metadata": {
        "id": "uWB3cp7eD5HF",
        "colab_type": "code",
        "colab": {}
      },
      "source": [
        "tree.plot_tree(model) "
      ],
      "execution_count": 0,
      "outputs": []
    }
  ]
}